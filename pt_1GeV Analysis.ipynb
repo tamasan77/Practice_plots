{
 "cells": [
  {
   "cell_type": "code",
   "execution_count": 1,
   "metadata": {},
   "outputs": [],
   "source": [
    "import uproot \n",
    "import numpy as np\n",
    "import coffea\n",
    "from coffea.nanoaod import NanoEvents\n",
    "from coffea.nanoaod.methods.leptons import *\n",
    "from coffea import hist\n",
    "import matplotlib.pyplot as plt"
   ]
  },
  {
   "cell_type": "code",
   "execution_count": 2,
   "metadata": {},
   "outputs": [],
   "source": [
    "fname=\"/uscms/home/ahall/nobackup/public/forTamas/iDM_nanoaod.root\"\n",
    "events = NanoEvents.from_file(fname,methods={\"ElectronBPark\":Electron})"
   ]
  },
  {
   "cell_type": "code",
   "execution_count": 4,
   "metadata": {},
   "outputs": [],
   "source": [
    "#cuts on MET and Jet\n",
    "MET_mask = events.MET.pt >120\n",
    "Jet_mask = events.Jet.pt.max() > 80\n",
    "MET_Jet_mask = MET_mask & Jet_mask\n",
    "\n",
    "soft_eles = events[MET_Jet_mask].ElectronBPark\n",
    "\n",
    "GenPart_mask = ((abs(events[MET_Jet_mask].GenPart.pdgId) == 11) \n",
    "               & (events[MET_Jet_mask].GenPart.parent.pdgId == 1000023)\n",
    "               & (events[MET_Jet_mask].GenPart.status == 1) \n",
    "               & (events[MET_Jet_mask].GenPart.hasFlags([\"fromHardProcess\", \"isFirstCopy\"])))\n",
    "\n",
    "#delta_r criteria for matched and unmatched electrons\n",
    "eles = soft_eles.cross(events[MET_Jet_mask].GenPart[GenPart_mask], nested=True)\n",
    "#note that for 1-5GeV range I used 0.005\n",
    "matched_mask = ((eles.i0.delta_r(eles.i1)).min() < 0.025) & (soft_eles.isPF == False)\n",
    "unmatched_mask = ((eles.i0.delta_r(eles.i1)).min() >= 0.025) & (soft_eles.isPF == False)\n",
    "matched_eles = soft_eles[matched_mask]\n",
    "unmatched_eles = soft_eles[unmatched_mask]"
   ]
  },
  {
   "cell_type": "code",
   "execution_count": 5,
   "metadata": {},
   "outputs": [],
   "source": [
    "def cut_pt(electrons):\n",
    "    return electrons[\n",
    "        (electrons.pt<1)\n",
    "    ]"
   ]
  },
  {
   "cell_type": "code",
   "execution_count": 7,
   "metadata": {},
   "outputs": [
    {
     "name": "stdout",
     "output_type": "stream",
     "text": [
      "37\n",
      "37\n"
     ]
    }
   ],
   "source": [
    "print(len(cut_pt(matched_eles).flatten()))\n",
    "print(len(matched_eles[matched_eles.pt<1].flatten()))"
   ]
  },
  {
   "cell_type": "code",
   "execution_count": null,
   "metadata": {},
   "outputs": [],
   "source": []
  }
 ],
 "metadata": {
  "kernelspec": {
   "display_name": "Python 3",
   "language": "python",
   "name": "python3"
  },
  "language_info": {
   "codemirror_mode": {
    "name": "ipython",
    "version": 3
   },
   "file_extension": ".py",
   "mimetype": "text/x-python",
   "name": "python",
   "nbconvert_exporter": "python",
   "pygments_lexer": "ipython3",
   "version": "3.8.3"
  }
 },
 "nbformat": 4,
 "nbformat_minor": 4
}
